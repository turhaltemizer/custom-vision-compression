{
 "cells": [
  {
   "cell_type": "markdown",
   "metadata": {},
   "source": [
    "```bash\n",
    "# Download and unpack the annotation file\n",
    "$ wget http://images.cocodataset.org/annotations/annotations_trainval2017.zip\n",
    "$ unzip annotations_trainval2017.zip\n",
    "$ mkdir data\n",
    "$ mkdir data/train\n",
    "$ mkdir data/test\n",
    "```"
   ]
  },
  {
   "cell_type": "code",
   "execution_count": 1,
   "metadata": {},
   "outputs": [
    {
     "name": "stdout",
     "output_type": "stream",
     "text": [
      "loading annotations into memory...\n",
      "Done (t=0.46s)\n",
      "creating index...\n",
      "index created!\n",
      "COCO categories: \n",
      "person bicycle car motorcycle airplane bus train truck boat traffic light fire hydrant stop sign parking meter bench bird cat dog horse sheep cow elephant bear zebra giraffe backpack umbrella handbag tie suitcase frisbee skis snowboard sports ball kite baseball bat baseball glove skateboard surfboard tennis racket bottle wine glass cup fork knife spoon bowl banana apple sandwich orange broccoli carrot hot dog pizza donut cake chair couch potted plant bed dining table toilet tv laptop mouse remote keyboard cell phone microwave oven toaster sink refrigerator book clock vase scissors teddy bear hair drier toothbrush\n",
      "\n"
     ]
    }
   ],
   "source": [
    "# Display COCO categories\n",
    "\n",
    "from pycocotools.coco import COCO\n",
    "\n",
    "coco=COCO('annotations/instances_val2017.json')\n",
    "\n",
    "cats = coco.loadCats(coco.getCatIds())\n",
    "nms = [cat['name'] for cat in cats]\n",
    "print('COCO categories: \\n{}\\n'.format(' '.join(nms)))"
   ]
  },
  {
   "cell_type": "code",
   "execution_count": 2,
   "metadata": {},
   "outputs": [],
   "source": [
    "# Get cats and dogs categories\n",
    "\n",
    "catImgIds = coco.getImgIds(catIds=coco.getCatIds(catNms=['cat']))\n",
    "dogImgIds = coco.getImgIds(catIds=coco.getCatIds(catNms=['dog']))\n",
    "train_imgs = coco.loadImgs(catImgIds[:50] + dogImgIds[:50])\n",
    "test_imgs = coco.loadImgs(catImgIds[50:57] + dogImgIds[50:57])"
   ]
  },
  {
   "cell_type": "code",
   "execution_count": 3,
   "metadata": {},
   "outputs": [],
   "source": [
    "import cv2\n",
    "import skimage.io as io\n",
    "\n",
    "for img in train_imgs:\n",
    "    I = io.imread(img['coco_url'])\n",
    "    cv2.imwrite('data/train/' + img['coco_url'].split('/')[-1], cv2.cvtColor(I, cv2.COLOR_RGB2BGR))\n",
    "    \n",
    "for img in test_imgs:\n",
    "    I = io.imread(img['coco_url'])\n",
    "    cv2.imwrite('data/test/' + img['coco_url'].split('/')[-1], cv2.cvtColor(I, cv2.COLOR_RGB2BGR))"
   ]
  }
 ],
 "metadata": {
  "kernelspec": {
   "display_name": "Python 3",
   "language": "python",
   "name": "python3"
  },
  "language_info": {
   "codemirror_mode": {
    "name": "ipython",
    "version": 3
   },
   "file_extension": ".py",
   "mimetype": "text/x-python",
   "name": "python",
   "nbconvert_exporter": "python",
   "pygments_lexer": "ipython3",
   "version": "3.5.5"
  }
 },
 "nbformat": 4,
 "nbformat_minor": 2
}
